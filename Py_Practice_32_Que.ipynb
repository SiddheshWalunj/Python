{
 "cells": [
  {
   "cell_type": "raw",
   "id": "d8747268",
   "metadata": {},
   "source": [
    "1.print the first 5 +ve integers in ascending order with one number in each line"
   ]
  },
  {
   "cell_type": "code",
   "execution_count": 3,
   "id": "799bc22d",
   "metadata": {},
   "outputs": [
    {
     "name": "stdout",
     "output_type": "stream",
     "text": [
      "1\n",
      "2\n",
      "3\n",
      "4\n",
      "5\n"
     ]
    }
   ],
   "source": [
    "# for i in range(5):\n",
    "#     print(i+1)\n",
    "    \n",
    "for i in range(1,6):\n",
    "    print(i)"
   ]
  },
  {
   "cell_type": "raw",
   "id": "fa7306e3",
   "metadata": {},
   "source": [
    "2. print the following pattern\n",
    " *\n",
    " **\n",
    " *** \n",
    " **** \n",
    " *****\n"
   ]
  },
  {
   "cell_type": "code",
   "execution_count": 8,
   "id": "b6beca0e",
   "metadata": {
    "scrolled": true
   },
   "outputs": [
    {
     "name": "stdout",
     "output_type": "stream",
     "text": [
      "*\n",
      "**\n",
      "***\n",
      "****\n",
      "*****\n"
     ]
    }
   ],
   "source": [
    "for i in range(1,6):\n",
    "    print(\"*\"*i)\n",
    "    \n",
    "# for i in range(1,6):\n",
    "#     for j in range(i):\n",
    "#         print(\"*\",end= '')\n",
    "#     print(\"\")"
   ]
  },
  {
   "cell_type": "raw",
   "id": "f2bed1dc",
   "metadata": {},
   "source": [
    "3. Accept an integer as input and print its square as a output"
   ]
  },
  {
   "cell_type": "code",
   "execution_count": 10,
   "id": "f3cd7d7c",
   "metadata": {},
   "outputs": [
    {
     "name": "stdout",
     "output_type": "stream",
     "text": [
      "Enter the number : 4\n",
      "16\n"
     ]
    }
   ],
   "source": [
    "num = int(input(\"Enter the number : \"))\n",
    "print(num**2)"
   ]
  },
  {
   "cell_type": "raw",
   "id": "0dc205b0",
   "metadata": {},
   "source": [
    "4. Accept two integer as input and print their sum as output"
   ]
  },
  {
   "cell_type": "code",
   "execution_count": 11,
   "id": "3fb3a942",
   "metadata": {},
   "outputs": [
    {
     "name": "stdout",
     "output_type": "stream",
     "text": [
      "enter the first number : 5\n",
      "enter the second number : 6\n",
      "11\n"
     ]
    }
   ],
   "source": [
    "a = int(input(\"enter the first number : \"))\n",
    "b = int(input(\"enter the second number : \"))\n",
    "print(a+b)"
   ]
  },
  {
   "cell_type": "raw",
   "id": "8b39f1b5",
   "metadata": {},
   "source": [
    "5. Accept two words as input and print the two words after adding space in between them"
   ]
  },
  {
   "cell_type": "code",
   "execution_count": 13,
   "id": "164f483a",
   "metadata": {},
   "outputs": [
    {
     "name": "stdout",
     "output_type": "stream",
     "text": [
      "sid\n",
      "walunj\n",
      "sid walunj\n"
     ]
    }
   ],
   "source": [
    "# a = str(input())\n",
    "# b = str(input())\n",
    "\n",
    "# print(a + \" \"+ b)\n",
    "\n",
    "print(input(), input())"
   ]
  },
  {
   "cell_type": "raw",
   "id": "17958a4d",
   "metadata": {},
   "source": [
    "6. Accept the registration number of a vechile as input  and print  its state ode as output"
   ]
  },
  {
   "cell_type": "code",
   "execution_count": 14,
   "id": "8b46328b",
   "metadata": {},
   "outputs": [
    {
     "name": "stdout",
     "output_type": "stream",
     "text": [
      "enter registration number : MH02kw1619\n",
      "MH\n"
     ]
    }
   ],
   "source": [
    "s = input(\"enter registration number : \")\n",
    "print(s[0:2])"
   ]
  },
  {
   "cell_type": "raw",
   "id": "0a916301",
   "metadata": {},
   "source": [
    "7. Accept a five digit number as input and print  the sum of its digits as output"
   ]
  },
  {
   "cell_type": "code",
   "execution_count": 49,
   "id": "22975633",
   "metadata": {},
   "outputs": [
    {
     "name": "stdout",
     "output_type": "stream",
     "text": [
      "Enter five digit number : 12356\n"
     ]
    },
    {
     "data": {
      "text/plain": [
       "17"
      ]
     },
     "execution_count": 49,
     "metadata": {},
     "output_type": "execute_result"
    }
   ],
   "source": [
    "def Sum_Five_Digit():\n",
    "    num = input(\"Enter five digit number : \")\n",
    "    sum = 0\n",
    "    if len(num) != 5 or not num.isdigit():\n",
    "        print(\"please enter the number again\")\n",
    "    else:\n",
    "    \n",
    "        for i in (num):\n",
    "            sum = sum + int(i)   \n",
    "        \n",
    "        return sum\n",
    "    \n",
    "Sum_Five_Digit()"
   ]
  },
  {
   "cell_type": "raw",
   "id": "51dd1dd9",
   "metadata": {},
   "source": [
    "8. Accept five words as input and print the sentence  formed by the words after adding space between consecutive  words  and full stop  at the end."
   ]
  },
  {
   "cell_type": "code",
   "execution_count": 56,
   "id": "bd8b8190",
   "metadata": {},
   "outputs": [
    {
     "name": "stdout",
     "output_type": "stream",
     "text": [
      "enter 1th word: this\n",
      "enter 2th word: is\n",
      "enter 3th word: my\n",
      "enter 4th word: first\n",
      "enter 5th word: code\n",
      "\n",
      "this is my first code.\n"
     ]
    }
   ],
   "source": [
    "words = []\n",
    "for i in range(5):\n",
    "    word = input(f'enter {i+1}th word: ')\n",
    "    words.append(word)\n",
    "    \n",
    "sentence = ' '.join(words)\n",
    "\n",
    "sentence += '.'\n",
    "\n",
    "print('\\n'+sentence)"
   ]
  },
  {
   "cell_type": "raw",
   "id": "b36bd5f1",
   "metadata": {},
   "source": [
    "9. Accept the date in DD-MM-YYYY format as input and print th year as output."
   ]
  },
  {
   "cell_type": "code",
   "execution_count": 69,
   "id": "09e947c0",
   "metadata": {},
   "outputs": [
    {
     "name": "stdout",
     "output_type": "stream",
     "text": [
      "Enter the date in DD-MM-YYYY format14-02-2023\n",
      "Year is :2023\n"
     ]
    }
   ],
   "source": [
    "from datetime import date\n",
    "\n",
    "def Import_Year():\n",
    "    day = int(input(\"Enter the day: \"))\n",
    "    month = int(input(\"Enter the month: \"))\n",
    "    year = int(input(\"Enter the year: \"))\n",
    "\n",
    "    d = date(year, month, day)\n",
    "\n",
    "    print(\"Year is :\", d.year)\n",
    "\n",
    "Import_Year()\n",
    "\n",
    "# here is the another method for it using slicing\n",
    "# date=input(\"Enter the date in DD-MM-YYYY format: \") # 14-02-2024\n",
    "# print(\"Year is :\"+date[6:]) # output is : 2024"
   ]
  },
  {
   "cell_type": "raw",
   "id": "ab924939",
   "metadata": {},
   "source": [
    "10. Accept a sequence of five single digit number seperated by commas as input. print the product of all five numbers."
   ]
  },
  {
   "cell_type": "code",
   "execution_count": 80,
   "id": "f200f6c6",
   "metadata": {},
   "outputs": [
    {
     "name": "stdout",
     "output_type": "stream",
     "text": [
      "1680\n"
     ]
    }
   ],
   "source": [
    "num = [9,8,7,6,5]\n",
    "\n",
    "def Five_Numbers_Product():\n",
    "    product = 1\n",
    "    for i in range(1,len(num)):\n",
    "        if num[i] != 0:\n",
    "            product = product * num[i]\n",
    "    print(product)\n",
    "    \n",
    "Five_Numbers_Product()"
   ]
  },
  {
   "cell_type": "raw",
   "id": "e7f13885",
   "metadata": {},
   "source": [
    "11. Accept two positive integers x and y as input. print the number of digits in x to power y."
   ]
  },
  {
   "cell_type": "code",
   "execution_count": 90,
   "id": "9a12b24e",
   "metadata": {},
   "outputs": [
    {
     "name": "stdout",
     "output_type": "stream",
     "text": [
      "Enter the Value of X : 5\n",
      "Enter the value of Y : 6\n",
      "15625\n",
      "number of digits in power of x to y : 5\n"
     ]
    }
   ],
   "source": [
    "def x_to_power_y():   \n",
    "    x = int(input(\"Enter the Value of X : \"))\n",
    "    y = int(input(\"Enter the value of Y : \"))\n",
    "\n",
    "    power = x**y\n",
    "\n",
    "    print(power)\n",
    "\n",
    "    print(f\"number of digits in power of x to y : {len(str(power))}\")\n",
    "    \n",
    "\n",
    "x_to_power_y()"
   ]
  },
  {
   "cell_type": "raw",
   "id": "2d2fc924",
   "metadata": {},
   "source": [
    "12. Accept a string as input. If the input string is of odd length, then continue with it. If the input string is of even length, make the string of odd length as below:\n",
    "\n",
    "    • If the last character is a period (.), then remove it \n",
    "    • If the last character is not a period, then add a period (.) to the end of the string\n",
    "\n",
    "    Call this string of odd length word. Select a substring made up of three consecutive characters from word such that there are an equal number of characters to the left and right of this substring. Print this substring as output. You can assume that all input strings will be in lower case and will have a length of at least four\n"
   ]
  },
  {
   "cell_type": "code",
   "execution_count": 7,
   "id": "544c0537",
   "metadata": {},
   "outputs": [
    {
     "name": "stdout",
     "output_type": "stream",
     "text": [
      "enter the string : hi\n",
      "hi.\n"
     ]
    }
   ],
   "source": [
    "s = input(\"enter the string : \")\n",
    "n = len(s)\n",
    "\n",
    "if n%2 == 0:\n",
    "    if s[n-1]=='.':\n",
    "        s=s[:-1]\n",
    "    else:\n",
    "        s=s+'.'\n",
    "\n",
    "n = int((len(s)-1)/2)\n",
    "print(s[n-1:n+2])"
   ]
  },
  {
   "cell_type": "raw",
   "id": "3f36c3bf",
   "metadata": {},
   "source": [
    "13. Accept three positive integers as input and check if they form the sides of a right triangle. Print YES if they form one, and NO is they do not. The input will have three lines, with one integer on each line. The output should be a single line containing one of these two strings: YES or NO."
   ]
  },
  {
   "cell_type": "code",
   "execution_count": 12,
   "id": "c60fb006",
   "metadata": {},
   "outputs": [
    {
     "name": "stdout",
     "output_type": "stream",
     "text": [
      "Enter the first side : 6\n",
      "Enter the Second side : 8\n",
      "Enter the Third side : 10\n",
      "YES\n"
     ]
    }
   ],
   "source": [
    "a = int(input(\"Enter the first side : \"))\n",
    "b = int(input(\"Enter the Second side : \"))\n",
    "c = int(input(\"Enter the Third side : \"))\n",
    "\n",
    "if ((a**2 + b**2 == c**2) or (b**2 + c**2 == a**2) or (a**2 + c**2 == b**2)):\n",
    "    print(\"YES\")\n",
    "else:\n",
    "    print(\"NO\")"
   ]
  },
  {
   "cell_type": "raw",
   "id": "be1994ff",
   "metadata": {},
   "source": [
    "14. EvenOdd is a tech startup. Each employee at the startup is given an employee id which is a unique positive integer.\n",
    "On one warm Sunday evening, five employees of the company come together for a meeting and sit at a circular table:\n",
    "    The employees follow a strange convention. They will continue the meeting only if the following condition is satisfied.\n",
    "    The sum of the employee-ids of every pair of adjacent employees at the table must be an even number.\n",
    "\n",
    "    They are so lazy that they won't move around to satisfy the above condition,\n",
    "    If the current seating plan doesn't satisfy the condition, the meeting will be cancelled. \n",
    "    You are given the employee-id of all five employees. Your task is to decide if the meeting happened or not.\n",
    "    The input will be five lined, each containing an integer. \n",
    "    The ith line will have the employee-id of Ei. The output will be a single line containing one of these two strings:\n",
    "        YES or NO\n"
   ]
  },
  {
   "cell_type": "code",
   "execution_count": 3,
   "id": "55da2807",
   "metadata": {},
   "outputs": [
    {
     "name": "stdout",
     "output_type": "stream",
     "text": [
      "First Emplyoyee ID : 1\n",
      "Second Emplyoyee ID : 2\n",
      "Third Emplyoyee ID : 3\n",
      "Fourth Emplyoyee ID : 4\n",
      "Fifth Emplyoyee ID : 5\n",
      "NO\n"
     ]
    }
   ],
   "source": [
    "employee_1 = int(input(\"First Emplyoyee ID : \"))\n",
    "employee_2 = int(input(\"Second Emplyoyee ID : \"))\n",
    "employee_3 = int(input(\"Third Emplyoyee ID : \"))\n",
    "employee_4 = int(input(\"Fourth Emplyoyee ID : \"))\n",
    "employee_5 = int(input(\"Fifth Emplyoyee ID : \"))\n",
    "\n",
    "if ((employee_1 + employee_2) % 2 == 0 and\n",
    "    (employee_2 + employee_3) % 2 == 0 and\n",
    "    (employee_3 + employee_4) % 2 == 0 and\n",
    "    (employee_4 + employee_5) % 2 == 0 and\n",
    "    (employee_5 + employee_1) % 2 == 0 ):\n",
    "    print(\"YES\")\n",
    "else:\n",
    "    print(\"NO\")"
   ]
  },
  {
   "cell_type": "raw",
   "id": "bca14871",
   "metadata": {},
   "source": [
    "15. Accept a string as input and print the vowels present in the string in alphabetical order. \n",
    "If the string doesn't contain any vowels, then print the string none as output. \n",
    "Each vowel that appears in the input string irrespective of its case should appear just once in lower case in the output"
   ]
  },
  {
   "cell_type": "code",
   "execution_count": 26,
   "id": "48f155ec",
   "metadata": {},
   "outputs": [
    {
     "name": "stdout",
     "output_type": "stream",
     "text": [
      "Enter the string : INEURONineuron\n",
      "['I', 'N', 'E', 'U', 'R', 'O', 'N', 'i', 'n', 'e', 'u', 'r', 'o', 'n']\n",
      "Vowels found are : \n",
      "{'i', 'o', 'u', 'e'}\n"
     ]
    }
   ],
   "source": [
    "str1 = input(\"Enter the string : \")\n",
    "\n",
    "lst = list(str1)\n",
    "print(lst)\n",
    "\n",
    "vowels = ['a','e','i','o','u','A','E','I','O','U']\n",
    "\n",
    "output = []\n",
    "\n",
    "for each in lst:\n",
    "    if each in vowels:\n",
    "        output.append(each.lower())\n",
    "\n",
    "print(\"Vowels found are : \")\n",
    "\n",
    "if not output:\n",
    "    print('none')\n",
    "else:\n",
    "    print(set(output))"
   ]
  },
  {
   "cell_type": "raw",
   "id": "56da2942",
   "metadata": {},
   "source": [
    "16. You are given the date of birth of two persons, not necessarily from the same family. \n",
    "Your task is to find the younger of the two. If both of them share the same date of birth,\n",
    "then the younger of the two is assumed to be that person whose name comes first in alphabetical order.\n",
    "The input will have four lines. The first two lines correspond to the first person, while the last two \n",
    "lines correspond to the second person. For each person, the first line corresponds to the name and the \n",
    "second line corresponds to the date of birth in \"DD-MM-YYYY\" format. Your output should be the name of \n",
    "the younger of the two."
   ]
  },
  {
   "cell_type": "code",
   "execution_count": 28,
   "id": "79f8c0c7",
   "metadata": {},
   "outputs": [
    {
     "name": "stdout",
     "output_type": "stream",
     "text": [
      "Enter name : siddhesh\n",
      "Enter the DOB(DD-MM-YYYY) : 16-01-1999\n",
      "Enter name : walunj\n",
      "Enter the DOB(DD-MM-YYYY) : 16-03-1999\n",
      "the younger one is : walunj\n"
     ]
    }
   ],
   "source": [
    "person_name_1 = input(\"Enter name : \")\n",
    "person_dob_1 = input(\"Enter the DOB(DD-MM-YYYY) : \")\n",
    "person_name_2 = input(\"Enter name : \")\n",
    "person_dob_2 = input(\"Enter the DOB(DD-MM-YYYY) : \")\n",
    "\n",
    "if person_dob_1 == person_dob_2:\n",
    "    if person_name_1 < person_name_2:\n",
    "        print(f\"the younger one is : {person_name_1}\")\n",
    "    else:\n",
    "        print(f\"the younger one is : {person_name_2}\")\n",
    "elif person_dob_1[-4:] != person_dob_2[-4:]:\n",
    "    if int(person_dob_1[-4:]) < int(person_dob_2[-4:]):\n",
    "        print(f\"the younger one is : {person_name_2}\")\n",
    "    else:\n",
    "        print(f\"the younger one is : {person_name_1}\")\n",
    "elif person_dob_1[3:5] != person_dob_2[3:5]:\n",
    "    if int(person_dob_1[3:5]) < int(person_dob_2[3:5]):\n",
    "        print(f\"the younger one is : {person_name_2}\")\n",
    "    else:\n",
    "        print(f\"the younger one is : {person_name_1}\")\n",
    "else:\n",
    "    if int(person_dob_1[0:2]) < int(person_dob_2[0:2]):\n",
    "        print(f\"the younger one is : {person_name_2}\")\n",
    "    else:\n",
    "        print(f\"the younger one is : {person_name_1}\")"
   ]
  },
  {
   "cell_type": "raw",
   "id": "d1c81d9e",
   "metadata": {},
   "source": [
    "17. Accept a string as input. Your task is to determine if the input string is a valid password or not. \n",
    "for a string to be a valid password, it must satisfy all the conditions given below:\n",
    "(1) It should have at least 8 and at most 32 characters\n",
    "(2) It should start with an uppercase or lowercase letter\n",
    "(3) It should not have any of these characters: / \\ = '\"\n",
    "(4) It should not have spaces\n",
    "It could have any character that is not mentioned in the list of characters to be avoided (points 3 and 4). \n",
    "Output True if the string forms a valid password and False otherwise"
   ]
  },
  {
   "cell_type": "code",
   "execution_count": 33,
   "id": "ff65195d",
   "metadata": {},
   "outputs": [
    {
     "name": "stdout",
     "output_type": "stream",
     "text": [
      "Enter the string : 12siddhesh\n",
      "False\n"
     ]
    }
   ],
   "source": [
    "password = input(\"Enter the string : \")\n",
    "\n",
    "if (8 <= len(password) <= 32) and password[0].isalpha() and '/' not in password and '\\\\' not in password and '=' not in password and '\\'' not in password and '\\\"' not in password and ' ' not in password:\n",
    "    print('True')\n",
    "else:\n",
    "    print(False)"
   ]
  },
  {
   "cell_type": "raw",
   "id": "b826380f",
   "metadata": {},
   "source": [
    "18. Accept a positive integer n as input and print the first  n positive integers, one number on each line."
   ]
  },
  {
   "cell_type": "code",
   "execution_count": 38,
   "id": "e2a19820",
   "metadata": {},
   "outputs": [
    {
     "name": "stdout",
     "output_type": "stream",
     "text": [
      "Enter the positive integer : 5\n",
      "1\n",
      "2\n",
      "3\n",
      "4\n",
      "5\n"
     ]
    }
   ],
   "source": [
    "n = int(input(\"Enter the positive integer : \"))\n",
    "\n",
    "for i in range(1,n+1):\n",
    "    print(i)"
   ]
  },
  {
   "cell_type": "raw",
   "id": "d1ddf007",
   "metadata": {},
   "source": [
    "19. Accept a positive integer n as input where n is greater  than 1.\n",
    "print prime if n is a PRIME number and NOT PRIME otherwise"
   ]
  },
  {
   "cell_type": "code",
   "execution_count": 47,
   "id": "5c6fa8d2",
   "metadata": {},
   "outputs": [
    {
     "name": "stdout",
     "output_type": "stream",
     "text": [
      "Enter the positive integer : 15\n",
      "15 is not a prime number\n"
     ]
    }
   ],
   "source": [
    "num = int(input(\"Enter the positive integer : \"))\n",
    "\n",
    "if num > 1:\n",
    "    for i in range(2, int(num/2)+1):\n",
    "        if (num % i) == 0:\n",
    "            print(num, \"is not a prime number\")\n",
    "            break\n",
    "    else:\n",
    "        print(num, \"is a prime number\")\n",
    "else:\n",
    "    print(\"please, enter positive integer\")"
   ]
  },
  {
   "cell_type": "raw",
   "id": "1f4c18e4",
   "metadata": {},
   "source": [
    "20. Accept two strings as input and form a new string by removing all\n",
    "characters from the second string which are present in the first string.\n",
    "print this new string as output. you can assume that all input strings\n",
    "will be in lower case."
   ]
  },
  {
   "cell_type": "code",
   "execution_count": 51,
   "id": "9479c661",
   "metadata": {},
   "outputs": [
    {
     "name": "stdout",
     "output_type": "stream",
     "text": [
      "Enter the First String : NANA\n",
      "Enter the second String : NANI\n",
      "I\n"
     ]
    }
   ],
   "source": [
    "fisrt_str = input(\"Enter the First String : \")\n",
    "second_str = input(\"Enter the second String : \")\n",
    "\n",
    "for c in fisrt_str:\n",
    "    if c in second_str:\n",
    "        second_str = second_str.replace(c,'')     \n",
    "print(second_str)"
   ]
  },
  {
   "cell_type": "raw",
   "id": "6daa878c",
   "metadata": {},
   "source": [
    "21. Accept a phone number as input. A valid phone number should satisfy the following constraints.\n",
    "(1) The number should start with one of these digits: 6, 7, 8, 9\n",
    "(2) The number should be exactly 10 digits long.\n",
    "(3) No digit should appear more than 7 times in the number.\n",
    "(4) No digit should appear more than 5 times in a row in the number.\n",
    "If the fourth condition is not very clear, then consider this example: \n",
    "    the number 9888888765 is invalid because the digit 8 appears more than 5 times in a row. \n",
    "    Print the string valid if the phone number is valid. If not, print the string invalid."
   ]
  },
  {
   "cell_type": "code",
   "execution_count": 57,
   "id": "675e470b",
   "metadata": {},
   "outputs": [
    {
     "name": "stdout",
     "output_type": "stream",
     "text": [
      "Enter the phone number : 8888886060\n",
      "Invalid\n"
     ]
    }
   ],
   "source": [
    "phone_number = input(\"Enter the phone number : \")\n",
    "a = False\n",
    "if len(phone_number) == 10 and int(phone_number[0]) > 5 and phone_number.isdigit():\n",
    "    for i in range(10):\n",
    "        if phone_number.count(phone_number[i]) < 8:\n",
    "            a = True\n",
    "            if phone_number[i]*6 in phone_number:\n",
    "                a = False\n",
    "                break\n",
    "            else:\n",
    "                break\n",
    "if a:\n",
    "    print(\"valid\")\n",
    "else:\n",
    "    print(\"Invalid\")\n"
   ]
  },
  {
   "cell_type": "raw",
   "id": "5d08f389",
   "metadata": {},
   "source": [
    "22. In the first line of input, accept a sequence of space-separated words. \n",
    "In the second line of input, accept a single word. \n",
    "If this word is not present in the sequence, print NO. \n",
    "If this word is present in the sequence, then print YES and in the next line of the output, \n",
    "print the number of times the word appears in the sequence."
   ]
  },
  {
   "cell_type": "code",
   "execution_count": 59,
   "id": "6c420b98",
   "metadata": {},
   "outputs": [
    {
     "name": "stdout",
     "output_type": "stream",
     "text": [
      "Enter the sequence with space seperated words: i love code in python code and in java code\n",
      "Enter the word you want to check : code\n",
      "YES\n",
      "3\n"
     ]
    }
   ],
   "source": [
    "words = input(\"Enter the sequence with space seperated words: \").split()\n",
    "single_word = input(\"Enter the word you want to check : \")\n",
    "\n",
    "if single_word in words:\n",
    "    print(\"YES\")\n",
    "    print(words.count(single_word))\n",
    "else:\n",
    "    print(\"NO\")"
   ]
  },
  {
   "cell_type": "raw",
   "id": "4dadeffc",
   "metadata": {},
   "source": [
    "23. Write a function named factorial that accepts an integer n as argument. It should return \n",
    "the factorial of n if n is a positive integer. It should return -1 if n is a negative integer, and it \n",
    "should return 1 if n is zero."
   ]
  },
  {
   "cell_type": "code",
   "execution_count": 68,
   "id": "a365f999",
   "metadata": {},
   "outputs": [],
   "source": [
    "def factorial(n):\n",
    "    if n < 0:\n",
    "        return -1\n",
    "    elif n==0:\n",
    "        return 1\n",
    "    else:\n",
    "        f = 1\n",
    "        for i in range(1,n+1):\n",
    "            f*=i\n",
    "        return f\n"
   ]
  },
  {
   "cell_type": "code",
   "execution_count": 69,
   "id": "9c040f18",
   "metadata": {},
   "outputs": [
    {
     "data": {
      "text/plain": [
       "720"
      ]
     },
     "execution_count": 69,
     "metadata": {},
     "output_type": "execute_result"
    }
   ],
   "source": [
    "factorial(6)"
   ]
  },
  {
   "cell_type": "raw",
   "id": "aef2021b",
   "metadata": {},
   "source": [
    "24. The range of a list of numbers is the difference between the maximum and minimum values in the list\n",
    "Write a function named get_range that accepts a non-empty list of real numbers as argument. It \n",
    "should return the range of the list.\n",
    "(1) Avoid using built-in function such as max and min.\n",
    "(2) You do not have to accept input from the user or print output to the console. You just have to write \n",
    "the function definition."
   ]
  },
  {
   "cell_type": "code",
   "execution_count": 75,
   "id": "707acc32",
   "metadata": {},
   "outputs": [],
   "source": [
    "def get_max(L):\n",
    "    max_i = L[0]\n",
    "    for x in L:\n",
    "        if x > max_i:\n",
    "            max_i = x\n",
    "    return max_i\n",
    "\n",
    "def get_min(L):\n",
    "    min_i = L[0]\n",
    "    for x in L:\n",
    "        if x < min_i:\n",
    "            min_i = x\n",
    "    return min_i\n",
    "\n",
    "def get_range(L):\n",
    "    max_i = get_max(L)\n",
    "    min_i = get_min(L)\n",
    "    return max_i - min_i"
   ]
  },
  {
   "cell_type": "code",
   "execution_count": 77,
   "id": "d6c8c3f1",
   "metadata": {},
   "outputs": [
    {
     "data": {
      "text/plain": [
       "8"
      ]
     },
     "execution_count": 77,
     "metadata": {},
     "output_type": "execute_result"
    }
   ],
   "source": [
    "get_range([2,3,4,5,10])"
   ]
  },
  {
   "cell_type": "raw",
   "id": "2dca993c",
   "metadata": {},
   "source": [
    "25. Write a function named read_file that accepts a text file named filename as argument. Within \n",
    "the function, read the file and print each line of the file on a separate line in the console. You shouldn't \n",
    "print any extra characters at the end of a line. There shouldn't be an empty line between any two \n",
    "consecutive lines.\n",
    "(1) filename is a string variable that holds the name of the file. For example, in the first test case, it \n",
    "is filename = 'public_1.txt'.\n",
    "(2) You do not have to accept input from the console. You have to write the function definition and \n",
    "print the contents of the file within the function"
   ]
  },
  {
   "cell_type": "code",
   "execution_count": 80,
   "id": "8a22593d",
   "metadata": {},
   "outputs": [
    {
     "name": "stdout",
     "output_type": "stream",
     "text": [
      "hi this is my first text file.\n",
      "Happy coding!\n"
     ]
    }
   ],
   "source": [
    "def read_file(file: str):\n",
    "    with open(file,'r') as f:\n",
    "        lines = f.read()\n",
    "    print(lines)\n",
    "    \n",
    "filename = 'project_1.txt'\n",
    "read_file(filename)"
   ]
  },
  {
   "cell_type": "raw",
   "id": "c732bbee",
   "metadata": {},
   "source": [
    "26. A simple algorithm has to be designed to find out whether a student \n",
    "belongs to the Data Science branch or not. The input will be a \n",
    "student's roll number, which is of the form BR18B0000. \n",
    "Here, BR represents the branch code, 18 represents the year of \n",
    "joining, B represents the education level and 0000 represents the \n",
    "specific identification given to the student of that batch. The branch \n",
    "code for Data Science is DS. Print True if the student belongs to \n",
    "Data Science branch and False otherwise."
   ]
  },
  {
   "cell_type": "code",
   "execution_count": 87,
   "id": "306b48e9",
   "metadata": {},
   "outputs": [
    {
     "name": "stdout",
     "output_type": "stream",
     "text": [
      "Enter the roll number : DS18B0000\n",
      "TRUE\n"
     ]
    }
   ],
   "source": [
    "roll_no = input(\"Enter the roll number : \")\n",
    "\n",
    "if len(roll_no) != 9:\n",
    "    print(\"Enter the roll number carefully\")\n",
    "else:\n",
    "    if roll_no[0] == 'D' and roll_no[1] == 'S':\n",
    "        print(\"TRUE\")\n",
    "    else:\n",
    "        print(\"False\")"
   ]
  },
  {
   "cell_type": "raw",
   "id": "a3c624b4",
   "metadata": {},
   "source": [
    "27.The police are trying to track a criminal based on the evidence \n",
    "available at a crime site. Their main clue is a vehicle's damaged \n",
    "number plate. Only the string TN07 is visible. The format of the \n",
    "registration number is AA00AA00, where the first two letters are \n",
    "alphabets, next two are numbers, next two are again alphabets \n",
    "followed by two numbers at the end. A number plate is picked from a \n",
    "database of registration numbers and is given to you as input. Your \n",
    "task is to determine if this could belong to the criminal or not. \n",
    "Print True if the number plate \n",
    "contains TN07 and False otherwise."
   ]
  },
  {
   "cell_type": "code",
   "execution_count": 89,
   "id": "87b57c4c",
   "metadata": {},
   "outputs": [
    {
     "name": "stdout",
     "output_type": "stream",
     "text": [
      "Enter the Number : AA00TN07\n",
      "True\n"
     ]
    }
   ],
   "source": [
    "number  = input(\"Enter the Number : \")\n",
    "if (number[0:4] == 'TN07') or (number[4:8] == 'TN07'):\n",
    "    print(\"True\")\n",
    "else:\n",
    "    print(\"False\")"
   ]
  },
  {
   "cell_type": "raw",
   "id": "689109bf",
   "metadata": {},
   "source": [
    "28. You are given a string and two non-negative integers as input. The two integers specify the start and end indices of a substring in the given string. Create a new string by replicating the substring a minimum number of times so that the resulting string is longer than the input string. The input parameters are the string, start index of \n",
    "the substring and the end index of substring (endpoints inclusive) each on a different line."
   ]
  },
  {
   "cell_type": "code",
   "execution_count": 1,
   "id": "1f02c9dd",
   "metadata": {},
   "outputs": [
    {
     "name": "stdout",
     "output_type": "stream",
     "text": [
      "Enter the string : code\n",
      "Enter the first integer : 2\n",
      "Enter the second integer3\n",
      "dedede\n"
     ]
    }
   ],
   "source": [
    "n = input(\"Enter the string : \")\n",
    "a= int(input(\"Enter the first integer : \"))\n",
    "b = int(input(\"Enter the second integer\"))\n",
    "\n",
    "x = n[a:b+1]\n",
    "y=len(n)\n",
    "ans=\"\"\n",
    "while (y >= len(ans)):\n",
    "    ans+= x\n",
    "print(ans)"
   ]
  },
  {
   "cell_type": "raw",
   "id": "755f3e22",
   "metadata": {},
   "source": [
    "29. A class teacher has decided to split her entire class into four groups, namely Sapphire, Peridot, Ruby, \n",
    "and Emerald for sports competitions. For dividing the students into these four groups, she has \n",
    "followed the pattern given below:\n",
    "Sapphire - 1, 5, 9, 13, 17, 21, ...\n",
    "Peridot - 2, 6, 10, 14, 18, 22, ...\n",
    "Ruby - 3, 7, 11, 15, 19, 23, ...\n",
    "Emerald - 4, 8, 12, 16, 20, 24, ...\n",
    "All the students are represented by their roll numbers. Based on the above pattern, given the roll \n",
    "number as input, print the group the student belongs to. Note that the roll number can be any \n",
    "positive integer and not necessarily less than 25."
   ]
  },
  {
   "cell_type": "code",
   "execution_count": 2,
   "id": "e79fcc14",
   "metadata": {},
   "outputs": [
    {
     "name": "stdout",
     "output_type": "stream",
     "text": [
      "Enter the roll number : 22\n",
      "Peridot\n"
     ]
    }
   ],
   "source": [
    "n = int(input(\"Enter the roll number : \"))\n",
    "\n",
    "for i in range(1,n+1,4):\n",
    "    if n == i:\n",
    "        print('sapphire')\n",
    "\n",
    "for j in range(2,n+1,4):\n",
    "    if n == j:\n",
    "        print('Peridot')\n",
    "\n",
    "for k in range(3,n+1,4):\n",
    "    if n == k:\n",
    "        print('Ruby')\n",
    "\n",
    "for l in range(4,n+1,4):\n",
    "    if n == l:\n",
    "        print('Emerald')"
   ]
  },
  {
   "cell_type": "raw",
   "id": "6bf27c60",
   "metadata": {},
   "source": [
    "30. A data science company wants to hire data scientists from abc college. \n",
    "The company follows a certain criteria for selection: for a student to \n",
    "be selected, the number of backlogs should be at most 5 and the \n",
    "CGPA (Cumulative Grade Point Average) should be greater than 6. If \n",
    "the student does not fit the above criteria, then the student is not \n",
    "offered the job. If the student is selected, then the salary offered is \n",
    "equal to 5 times his/her CGPA (in lakhs).\n",
    "Accept the number of backlogs (integer) and the CGPA (float) of the \n",
    "student as input. Your task is to determine if the student is selected or \n",
    "not. If the student is selected, then print the package. If not, then \n",
    "print the string Not Selected."
   ]
  },
  {
   "cell_type": "code",
   "execution_count": 3,
   "id": "56ae6eef",
   "metadata": {},
   "outputs": [
    {
     "name": "stdout",
     "output_type": "stream",
     "text": [
      "Enter the number of backlogs : 4\n",
      "Enter the CGPA : 8\n",
      "the salary offered 40.0\n"
     ]
    }
   ],
   "source": [
    "backlogs = int(input(\"Enter the number of backlogs : \"))\n",
    "CGPA = float(input(\"Enter the CGPA : \"))\n",
    "\n",
    "if backlogs <= 5 and CGPA > 6:\n",
    "    print(f\"the salary offered { 5 * CGPA}\")\n",
    "else:\n",
    "    print(\"Not Selected\")"
   ]
  },
  {
   "cell_type": "raw",
   "id": "97cb22b7",
   "metadata": {},
   "source": [
    "31. Accept a string as input and print PALINDROME if it is a \n",
    "palindrome, and NOT PALINDROME otherwise"
   ]
  },
  {
   "cell_type": "code",
   "execution_count": 6,
   "id": "eff9adc4",
   "metadata": {},
   "outputs": [
    {
     "name": "stdout",
     "output_type": "stream",
     "text": [
      "Enter the string: ana\n",
      "Palindrome\n"
     ]
    }
   ],
   "source": [
    "s = input(\"Enter the string: \")\n",
    "\n",
    "if s == s[::-1]:\n",
    "    print(\"Palindrome\")\n",
    "else:\n",
    "    print(\"Not Palindrome\")"
   ]
  },
  {
   "cell_type": "raw",
   "id": "d145516c",
   "metadata": {},
   "source": [
    "32. In a portal login website, you are asked to write a function get_password_strength to decide \n",
    "the strength of a password. The strength is decided based on the total score of the password, Use \n",
    "following conditions:\n",
    "1) If password has length greater than 7 then score increases by one point.\n",
    "2) If password has at least one upper case and one lower case alphabets score increases by one point.\n",
    "3) If password has at least one number and no consecutive numbers like 12 or 234 then score \n",
    "increases by one point.\n",
    "4) If password has at least one special character (any character other than numbers and alphabets) then \n",
    "score increases by one point.\n",
    "5) If password contains username, then it is invalid password.\n",
    "If the password has score of four points, three points, two points, or one point then print Very \n",
    "Strong, Strong, Moderate, or Weak respectively. If the password is invalid, then \n",
    "print PASSWORD SHOULD NOT CONTAIN USERNAME and If the score is zero, then print Use a \n",
    "different password.The arguments to the function are username and password which are \n",
    "already defined"
   ]
  },
  {
   "cell_type": "code",
   "execution_count": 63,
   "id": "05a9e950",
   "metadata": {},
   "outputs": [],
   "source": [
    "def get_password_strength(username,password):\n",
    "    \n",
    "    c = 0\n",
    "    capital = 'ABCDEFGHIJKLMNOPQRSTUVWXYZ'\n",
    "    c_flag = False\n",
    "    small = 'abcdefghijklmnopqrstuvwxyz'\n",
    "    s_flag = False\n",
    "    num = '0123456789'\n",
    "    n_flag = False\n",
    "    nc_flag = True\n",
    "    \n",
    "    if username in password:\n",
    "        print(\"Password should not contain unsername\")\n",
    "        return\n",
    "    \n",
    "    if len(password) > 7:\n",
    "        c+=1\n",
    "        \n",
    "    for i in range(len(password)):\n",
    "        if password[i] in small:\n",
    "            s_flag = True\n",
    "        elif password[i] in capital:\n",
    "            c_flag = True\n",
    "        elif password[i] in num:\n",
    "            n_flag = True\n",
    "        \n",
    "        if n_flag:\n",
    "            if i != (len(password) - 1):\n",
    "                if num[((num.index(password[i]))+1)] == password[i+1]:\n",
    "                    nc_flag = False\n",
    "        \n",
    "        if c_flag and s_flag:\n",
    "                        c += 1\n",
    "            \n",
    "        if n_flag and nc_flag:\n",
    "                        c += 1\n",
    "        \n",
    "        if not password.isalnum():\n",
    "                        c += 1\n",
    "            \n",
    "        if c == 4:\n",
    "            print('very strong')\n",
    "            return\n",
    "        \n",
    "        if c == 3:\n",
    "                    print('strong')\n",
    "                    return\n",
    "        \n",
    "        if c == 2:\n",
    "                    print(\"moderate\")\n",
    "                    return\n",
    "        \n",
    "        if c == 1:\n",
    "                    print('weak')\n",
    "                    return\n",
    "        \n",
    "        if c == 0:\n",
    "                    print(\"use a different password\")\n",
    "                    return"
   ]
  },
  {
   "cell_type": "code",
   "execution_count": 64,
   "id": "a9540f58",
   "metadata": {},
   "outputs": [
    {
     "name": "stdout",
     "output_type": "stream",
     "text": [
      "weak\n"
     ]
    }
   ],
   "source": [
    "get_password_strength('sid','@007')"
   ]
  }
 ],
 "metadata": {
  "kernelspec": {
   "display_name": "Python 3 (ipykernel)",
   "language": "python",
   "name": "python3"
  },
  "language_info": {
   "codemirror_mode": {
    "name": "ipython",
    "version": 3
   },
   "file_extension": ".py",
   "mimetype": "text/x-python",
   "name": "python",
   "nbconvert_exporter": "python",
   "pygments_lexer": "ipython3",
   "version": "3.9.13"
  }
 },
 "nbformat": 4,
 "nbformat_minor": 5
}
